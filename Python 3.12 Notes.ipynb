{
 "cells": [
  {
   "cell_type": "code",
   "execution_count": 8,
   "id": "576d4536-e3b6-4843-aab7-0fafc69c3713",
   "metadata": {},
   "outputs": [
    {
     "name": "stdout",
     "output_type": "stream",
     "text": [
      "Python 3.12.0rc3\n"
     ]
    }
   ],
   "source": [
    "! python --version"
   ]
  },
  {
   "cell_type": "markdown",
   "id": "35a11c80-d236-446a-81ee-5b00cfb8181f",
   "metadata": {},
   "source": [
    "# Better Error messages"
   ]
  },
  {
   "cell_type": "code",
   "execution_count": 3,
   "id": "f1d9c97f-db8c-4e42-9655-4e681b35c206",
   "metadata": {
    "scrolled": true
   },
   "outputs": [
    {
     "ename": "SyntaxError",
     "evalue": "Did you mean to use 'from ... import ...' instead? (1287944594.py, line 3)",
     "output_type": "error",
     "traceback": [
      "\u001b[0;36m  Cell \u001b[0;32mIn[3], line 3\u001b[0;36m\u001b[0m\n\u001b[0;31m    import sys from version\u001b[0m\n\u001b[0m    ^\u001b[0m\n\u001b[0;31mSyntaxError\u001b[0m\u001b[0;31m:\u001b[0m Did you mean to use 'from ... import ...' instead?\n"
     ]
    }
   ],
   "source": [
    "import sys from version"
   ]
  },
  {
   "cell_type": "code",
   "execution_count": 6,
   "id": "719decee-373e-4f01-9f52-90d39d2a4944",
   "metadata": {},
   "outputs": [
    {
     "ename": "NameError",
     "evalue": "name 'blech' is not defined",
     "output_type": "error",
     "traceback": [
      "\u001b[0;31m---------------------------------------------------------------------------\u001b[0m",
      "\u001b[0;31mNameError\u001b[0m                                 Traceback (most recent call last)",
      "Cell \u001b[0;32mIn[6], line 8\u001b[0m\n\u001b[1;32m      5\u001b[0m     \u001b[38;5;28;01mdef\u001b[39;00m \u001b[38;5;21mfoo\u001b[39m(\u001b[38;5;28mself\u001b[39m):\n\u001b[1;32m      6\u001b[0m         something \u001b[38;5;241m=\u001b[39m blech\n\u001b[0;32m----> 8\u001b[0m \u001b[43mA\u001b[49m\u001b[43m(\u001b[49m\u001b[43m)\u001b[49m\u001b[38;5;241;43m.\u001b[39;49m\u001b[43mfoo\u001b[49m\u001b[43m(\u001b[49m\u001b[43m)\u001b[49m\n",
      "Cell \u001b[0;32mIn[6], line 6\u001b[0m, in \u001b[0;36mA.foo\u001b[0;34m(self)\u001b[0m\n\u001b[1;32m      5\u001b[0m \u001b[38;5;28;01mdef\u001b[39;00m \u001b[38;5;21mfoo\u001b[39m(\u001b[38;5;28mself\u001b[39m):\n\u001b[0;32m----> 6\u001b[0m     something \u001b[38;5;241m=\u001b[39m \u001b[43mblech\u001b[49m\n",
      "\u001b[0;31mNameError\u001b[0m: name 'blech' is not defined"
     ]
    }
   ],
   "source": [
    "class A:\n",
    "    def __init__(self):\n",
    "        self.blech = True\n",
    "\n",
    "    def foo(self):\n",
    "        something = blech\n",
    "\n",
    "A().foo()"
   ]
  },
  {
   "cell_type": "code",
   "execution_count": 7,
   "id": "67bb2b5e-d7a5-4a92-b252-ecadc171a983",
   "metadata": {},
   "outputs": [
    {
     "ename": "ImportError",
     "evalue": "cannot import name 'chainmap' from 'collections' (/usr/local/lib/python3.12/collections/__init__.py)",
     "output_type": "error",
     "traceback": [
      "\u001b[0;31m---------------------------------------------------------------------------\u001b[0m",
      "\u001b[0;31mImportError\u001b[0m                               Traceback (most recent call last)",
      "Cell \u001b[0;32mIn[7], line 1\u001b[0m\n\u001b[0;32m----> 1\u001b[0m \u001b[38;5;28;01mfrom\u001b[39;00m \u001b[38;5;21;01mcollections\u001b[39;00m \u001b[38;5;28;01mimport\u001b[39;00m chainmap\n",
      "\u001b[0;31mImportError\u001b[0m: cannot import name 'chainmap' from 'collections' (/usr/local/lib/python3.12/collections/__init__.py)"
     ]
    }
   ],
   "source": [
    "from collections import chainmap"
   ]
  },
  {
   "cell_type": "markdown",
   "id": "092b00a1-07bb-4839-811a-9a32d6f95e3d",
   "metadata": {},
   "source": [
    "# Faster Comprehensions (inline)"
   ]
  },
  {
   "cell_type": "code",
   "execution_count": 13,
   "id": "cae2bcfd-7a01-4538-99e9-9ef04cab5ba2",
   "metadata": {},
   "outputs": [
    {
     "name": "stdout",
     "output_type": "stream",
     "text": [
      "Time Elapsed : 0.00015137500008677307 \n",
      " Throws : [2, 2, 2, 1, 5, 2, 1, 1, 2, 2, 4, 2, 6, 1, 5, 3, 4, 3, 6, 2, 6, 1, 2, 5, 3, 4, 2, 6, 3, 3, 3, 5, 1, 6, 1, 5, 5, 1, 5, 3, 5, 5, 6, 2, 6, 3, 4, 3, 5, 6]\n"
     ]
    }
   ],
   "source": [
    "from timeit import default_timer as timer\n",
    "import random\n",
    "\n",
    "def roll_die()-> int:\n",
    "    return random.randint(1, 6)\n",
    "\n",
    "start = timer()\n",
    "dice_roll = [roll_die() for _ in range(0,50)]\n",
    "end = timer()\n",
    "\n",
    "print(f\"Time Elapsed : {end-start} \\n Throws : {dice_roll}\") "
   ]
  },
  {
   "cell_type": "markdown",
   "id": "9c9d535b-1e02-4211-9f7b-5f89d2056a52",
   "metadata": {},
   "source": [
    "# Nested Double quotes in f-strings"
   ]
  },
  {
   "cell_type": "code",
   "execution_count": 15,
   "id": "cb9e250c-7141-4064-9bdb-53e2b7ee20ff",
   "metadata": {},
   "outputs": [
    {
     "name": "stdin",
     "output_type": "stream",
     "text": [
      "Enter your name :  Rajesh\n"
     ]
    },
    {
     "name": "stdout",
     "output_type": "stream",
     "text": [
      "Hello, Rajesh\n"
     ]
    }
   ],
   "source": [
    "print(f\"Hello, {input(\"Enter your name : \")}\")"
   ]
  },
  {
   "cell_type": "markdown",
   "id": "11ac08bf-470f-4416-8b3c-ffdd3c50d085",
   "metadata": {},
   "source": [
    "# Unpack typing"
   ]
  },
  {
   "cell_type": "code",
   "execution_count": 20,
   "id": "60e114fa-6ae0-4bcb-9bd0-f0e2d66583ed",
   "metadata": {},
   "outputs": [
    {
     "name": "stdout",
     "output_type": "stream",
     "text": [
      "<class 'dict'>\n",
      "{'name': 'Predator', 'year': '1987'}\n",
      "<class 'dict'>\n",
      "{'name': 'Predator', 'year': '1987'}\n"
     ]
    }
   ],
   "source": [
    "from typing import TypedDict, Unpack\n",
    "\n",
    "class Movie(TypedDict):\n",
    "    name: str\n",
    "    year: str\n",
    "\n",
    "def print_movie_info(**kwargs: Unpack[Movie])-> None:\n",
    "    print(f\"{type(kwargs)}\")\n",
    "    print(f\"{kwargs}\")\n",
    "\n",
    "movie: dict[str,object] = {\"name\": \"Predator\", \"year\": \"1987\"}\n",
    "print_movie_info(**movie)\n",
    "\n",
    "typed_movie: Movie = {\"name\": \"Predator\", \"year\": \"1987\"}\n",
    "print_movie_info(**typed_movie)\n"
   ]
  },
  {
   "cell_type": "code",
   "execution_count": null,
   "id": "15739ccc-1d25-4298-af37-6842babcf742",
   "metadata": {},
   "outputs": [],
   "source": []
  }
 ],
 "metadata": {
  "kernelspec": {
   "display_name": "Python 3 (ipykernel)",
   "language": "python",
   "name": "python3"
  },
  "language_info": {
   "codemirror_mode": {
    "name": "ipython",
    "version": 3
   },
   "file_extension": ".py",
   "mimetype": "text/x-python",
   "name": "python",
   "nbconvert_exporter": "python",
   "pygments_lexer": "ipython3",
   "version": "3.12.0rc3"
  }
 },
 "nbformat": 4,
 "nbformat_minor": 5
}
